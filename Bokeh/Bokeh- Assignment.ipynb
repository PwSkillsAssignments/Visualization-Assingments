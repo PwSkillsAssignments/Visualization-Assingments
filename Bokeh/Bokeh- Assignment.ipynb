{
 "cells": [
  {
   "cell_type": "code",
   "execution_count": 1,
   "id": "d7b30e0d",
   "metadata": {},
   "outputs": [],
   "source": [
    "import pandas as pd\n",
    "import bokeh.io\n",
    "import bokeh.plotting\n",
    "from bokeh.plotting import  figure, output_file, show\n",
    "from bokeh.sampledata.iris import flowers\n",
    "bokeh.io.output_notebook\n",
    "import seaborn as sns"
   ]
  },
  {
   "cell_type": "markdown",
   "id": "d45ac00a",
   "metadata": {},
   "source": [
    "Q1. How can you create a Bokeh plot using Python code?"
   ]
  },
  {
   "cell_type": "code",
   "execution_count": 3,
   "id": "cf7bffc2",
   "metadata": {},
   "outputs": [],
   "source": [
    "output_file('test.html')\n",
    "df=sns.load_dataset('iris')\n",
    "p=figure(title='Test flowers')\n",
    "p.xaxis.axis_label='petal_length'\n",
    "p.yaxis.axis_label='petal_width'\n",
    "p.circle(df['petal_length'], df['petal_width'])\n",
    "show(p)\n"
   ]
  },
  {
   "cell_type": "markdown",
   "id": "21bc0a53",
   "metadata": {},
   "source": [
    "Q2. What are glyphs in Bokeh, and how can you add them to a Bokeh plot? Explain with an example."
   ]
  },
  {
   "cell_type": "code",
   "execution_count": 6,
   "id": "c666bb6c",
   "metadata": {},
   "outputs": [],
   "source": [
    "# In Bokeh, glyphs are visual shapes or markers that can be added to a plot to represent data points.\n",
    "# Glyphs can include basic shapes like circles, squares, lines, and more. Bokeh provides a wide range of glyphs that can be\n",
    "# customized to visually represent various data types and patterns."
   ]
  },
  {
   "cell_type": "code",
   "execution_count": 10,
   "id": "cc07807f",
   "metadata": {},
   "outputs": [],
   "source": [
    "x = [1, 2, 3, 4, 5]\n",
    "y = [6, 7, 2, 4, 8]\n",
    "\n",
    "plot = figure(title=\"Example Glyphs\", x_axis_label='X-axis', y_axis_label='Y-axis')\n",
    "\n",
    "plot.circle(x, y, size=10, color=\"red\", alpha=0.8)\n",
    "\n",
    "output_file(\"glyph_example.html\")\n",
    "\n",
    "show(plot)\n"
   ]
  },
  {
   "cell_type": "markdown",
   "id": "39abb649",
   "metadata": {},
   "source": [
    "Q3. How can you customize the appearance of a Bokeh plot, including the axes, title, and legend?"
   ]
  },
  {
   "cell_type": "code",
   "execution_count": 12,
   "id": "cfb3a04a",
   "metadata": {},
   "outputs": [],
   "source": [
    "\n",
    "\n",
    "x = [1, 2, 3, 4, 5]\n",
    "y = [6, 7, 2, 4, 8]\n",
    "\n",
    "plot = figure(title=\"Customized Bokeh Plot\", x_axis_label='X-axis Label', y_axis_label='Y-axis Label')\n",
    "plot.xaxis.axis_label_text_font = \"Arial\"\n",
    "plot.xaxis.major_label_text_font_size = \"12pt\"\n",
    "plot.background_fill_color = \"lightgrey\"\n",
    "plot.border_fill_color = \"whitesmoke\"\n",
    "plot.grid.grid_line_color = \"white\"\n",
    "plot.grid.grid_line_alpha = 0.5\n",
    "\n",
    "\n",
    "plot.circle(x, y, size=8, fill_color=\"red\")\n",
    "\n",
    "output_file(\"formatting.html\")\n",
    "\n",
    "show(plot)\n"
   ]
  },
  {
   "cell_type": "markdown",
   "id": "c9ec32b7",
   "metadata": {},
   "source": [
    "Q4. What is a Bokeh server, and how can you use it to create interactive plots that can be updated in\n",
    "real time?"
   ]
  },
  {
   "cell_type": "code",
   "execution_count": 13,
   "id": "ad8a3225",
   "metadata": {},
   "outputs": [],
   "source": [
    "# app.py\n",
    "# I have taken this code by ChatGPT\n",
    "from bokeh.plotting import figure, curdoc\n",
    "from bokeh.models import ColumnDataSource\n",
    "import numpy as np\n",
    "\n",
    "# Create initial data\n",
    "x = np.linspace(0, 2 * np.pi, 100)\n",
    "y = np.sin(x)\n",
    "\n",
    "# Create a ColumnDataSource\n",
    "source = ColumnDataSource(data=dict(x=x, y=y))\n",
    "\n",
    "# Create a plot\n",
    "plot = figure(title=\"Real-time Sin Plot\", plot_height=300, plot_width=600)\n",
    "line = plot.line('x', 'y', source=source)\n",
    "\n",
    "# Define the callback function to update the plot\n",
    "def update():\n",
    "    new_y = np.sin(x + curdoc().session_context.request.arguments.get('shift', [0])[0].decode(\"utf-8\").astype(float))\n",
    "    source.data = dict(x=x, y=new_y)\n",
    "\n",
    "# Add periodic callback to update the plot every 200 milliseconds\n",
    "curdoc().add_periodic_callback(update, 200)\n",
    "\n",
    "# Run the application\n",
    "curdoc().title = \"Real-time Sin Plot\"\n",
    "curdoc().add_root(plot)\n"
   ]
  },
  {
   "cell_type": "code",
   "execution_count": 15,
   "id": "f17960de",
   "metadata": {},
   "outputs": [
    {
     "name": "stderr",
     "output_type": "stream",
     "text": [
      "ERROR: Path for Bokeh server application does not exist: C:\\Users\\hmadarw\\Learnings\\DataScience\\KrishNaik\\Assignment\\Visualization\\Bokeh\\app.py\n"
     ]
    }
   ],
   "source": []
  },
  {
   "cell_type": "code",
   "execution_count": null,
   "id": "13f9a403",
   "metadata": {},
   "outputs": [],
   "source": []
  }
 ],
 "metadata": {
  "kernelspec": {
   "display_name": "Python 3 (ipykernel)",
   "language": "python",
   "name": "python3"
  },
  "language_info": {
   "codemirror_mode": {
    "name": "ipython",
    "version": 3
   },
   "file_extension": ".py",
   "mimetype": "text/x-python",
   "name": "python",
   "nbconvert_exporter": "python",
   "pygments_lexer": "ipython3",
   "version": "3.9.12"
  }
 },
 "nbformat": 4,
 "nbformat_minor": 5
}
